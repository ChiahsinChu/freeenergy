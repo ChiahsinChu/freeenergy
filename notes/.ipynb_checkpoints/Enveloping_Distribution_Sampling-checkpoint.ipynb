{
 "cells": [
  {
   "cell_type": "markdown",
   "metadata": {
    "slideshow": {
     "slide_type": "slide"
    }
   },
   "source": [
    "Enveloping distribution sampling method was first proposed by Christ and van Gunsteren in 2007.\\cite{ChristJCP2007}\n",
    "When calculating the free energy difference between states $A$ and $B$,\n",
    "\\begin{equation}\n",
    "\t\\Delta G_{BA}=G_B-G_A=-\\beta^{-1}\\ln{\\frac{Q_B}{Q_A}},\n",
    "\\end{equation}\n",
    "we may encounter convergence difficulty if the important spaces of these two states are well separated, shown as black lines in the next Figure.\n",
    "Simulation under the Hamiltonian of state $A$ can hardly cover the important region of Hamiltonian $B$, and then the free energy of state $B$ will be significantly overestimated.A simple solution to this difficulty is \"overlap sampling\", in which a reference state that can cover the important regions of both Hamiltonians $A$ and $B$ is introduced.We then carry out a simulation for the reference state and the free energy difference between state $A$ and $B$ can be calculated as\n",
    "\\begin{equation}\n",
    "\t\\Delta G_{BA}=\\Delta G_{BR}-\\Delta G_{AR}=-\\beta^{-1}\\ln{\\frac{\\left<e^{-\\beta\\left(H_B-H_R\\right)}\\right>_R}{\\left<e^{-\\beta\\left(H_A-H_R\\right)}\\right>_R}},\n",
    "\\end{equation} \n",
    "which is a combination of two thermodynamic perturbation calculations from the reference state to the target states.\n",
    "\n",
    "However, building the Hamiltonian of the reference state is not trivial. Without knowledge of the Hamiltonians for state $A$ and state $B$, we cannot generate an effective Hamiltonian,especially in a high dimensional space. Enveloping distribution sampling method provides a natural way to generate the Hamiltonian for the reference state with simply mixing the Hamiltonians of state $A$ and state $B$ in the following way\n",
    "\\begin{equation}\n",
    "\tH_R(\\mathbf{r})=-\\left(s\\beta\\right)^{-1}\\ln{\\left(e^{-s\\beta H_A(\\mathbf{r})}+e^{-s\\beta H_B(\\mathbf{r})}\\right)},\n",
    "    \\label{eq:H_R}\n",
    "\\end{equation}\n",
    "where $s$ is a scale factor that modulates the mixing as shown in the next figure. Increasing $s$ lows the barrier height separating the two minima in the mixed potential, thereby enhances the transition. Straightforwardly, you may come to the idea that running Hamiltonian-REMD with different $s$ can remarkably increase the efficiency.\n",
    "If you take a close look at Eq. \\ref{eq:H_R}, you will find that $s$ appears always with $\\beta$. In other words, changing $s$ is equivalent to changing the temperature for the simulation. This is one interesting case where H-REMD and T-REMD are coincident with each other. \n",
    "The force is also a mixing quantity from two Hamiltonians as\n",
    "\\begin{align}\n",
    "\t\\mathbf{F}_R^i=-\\frac{\\partial H_R}{\\partial \\mathbf{r}^i}=&\\frac{e^{-s\\beta H_A(\\mathbf{r})}}{e^{-s\\beta H_A(\\mathbf{r})}+e^{-s\\beta H_B(\\mathbf{r})}}\\left(-\\frac{\\partial H_A(\\mathbf{r})}{\\partial \\mathbf{r}^i}\\right)\\notag\\\\\n",
    "\t&+\\frac{e^{-s\\beta H_B(\\mathbf{r})}}{e^{-s\\beta H_A(\\mathbf{r})}+e^{-s\\beta H_B(\\mathbf{r})}}\\left(-\\frac{\\partial H_B(\\mathbf{r})}{\\partial \\mathbf{r}^i}\\right).\n",
    "\\end{align}\n",
    "\n",
    "In this script, we are going to calculate the free energy difference between two states.\n",
    "State 0 has a Hamiltonian $H_0=(x+2.0)^2$ in one-dimensional space, and state 1 has a Hamiltonian $H_1=1+0.25*(x-2.0)^2$. The free energy difference between these two states is\n",
    "\\begin{align*}\n",
    "\\Delta A&=\\ln{\\frac{\\int \\exp{(-H_0(\\mathbf{x}))}d\\mathbf{x}}{\\int \\exp{(-H_1(\\mathbf{x}))}d\\mathbf{x}}}\\\\\n",
    "     &=\\ln{\\frac{\\int \\exp{(-(x+2.0)^2)}d\\mathbf{x}}{\\int \\exp{(-1-0.25*(x-2.0)^2)}d\\mathbf{x}}}\\\\\n",
    "     &=\\ln{\\frac{\\sqrt{2\\pi*0.5}}{\\exp{(-1)}\\sqrt{2\\pi*2}}}\\\\\n",
    "     &=0.31\n",
    "\\end{align*}"
   ]
  },
  {
   "cell_type": "code",
   "execution_count": 12,
   "metadata": {
    "scrolled": true,
    "slideshow": {
     "slide_type": "slide"
    }
   },
   "outputs": [
    {
     "data": {
      "image/png": "[encoded data removed]",
      "text/plain": [
       "<Figure size 432x288 with 1 Axes>"
      ]
     },
     "metadata": {},
     "output_type": "display_data"
    }
   ],
   "source": [
    "%matplotlib inline\n",
    "from math import *\n",
    "import numpy as np\n",
    "import random\n",
    "import scipy.stats\n",
    "import matplotlib.pyplot as plt\n",
    "import matplotlib.mlab as mlab\n",
    "np.set_printoptions(precision=3)\n",
    "def u0(x):\n",
    "    return (x+2)**2\n",
    "def u1(x):\n",
    "    return 1.0+0.25*(x-2)**2\n",
    "x=np.linspace(-5,7,100)\n",
    "y0=u0(x)\n",
    "y1=u1(x)\n",
    "plt.ylim(-0.5, 6)\n",
    "plt.plot(x,y0,'r',x,y1,'b')\n",
    "plt.show()"
   ]
  },
  {
   "cell_type": "markdown",
   "metadata": {
    "slideshow": {
     "slide_type": "slide"
    }
   },
   "source": [
    "## In the first step, we will apply a direct TP calculation using the Equation shown above. \n",
    "Taking the explicit expressions for $H_0$ and $H_1$ in the equation above, we have\n",
    "\\begin{equation}\n",
    "\\Delta A=-\\ln \\left<e^{-\\left[2+0.25\\times(x-2)^2-(x+2)^2\\right]}\\right>_0\n",
    "\\end{equation}"
   ]
  },
  {
   "cell_type": "markdown",
   "metadata": {
    "slideshow": {
     "slide_type": "slide"
    }
   },
   "source": [
    "Now we define a Monte Carlo (MC) propagator for this simulation. \n",
    "In the MC simulation, the transition between states must satisfy the detailed balance, i.e.\n",
    "$$\\rho(x_i)P(x_i,x_j)=\\rho(x_j)P(x_j,x_i),$$\n",
    "where $\\rho(x_i)$ and $P(x_i,x_j)$ are the probability of the microstate $x_i$ and the transition probability from $x_i$ to $x_j$, \n",
    "respectively.\n",
    "Suppose at $t_0$ the system is located at microstate $x_0$ with energy u(x_0). We make a random trial move to $x_1^t$ with energy \n",
    "$u(x_1^t)$.\n",
    "\n",
    "if $u(x_1^t)<u(x_1^t)$\n",
    "\n",
    "  {\n",
    "  $x_1=x_1^t$\n",
    "  }\n",
    "  \n",
    "else\n",
    "\n",
    "  {\n",
    "   generate a random number s evenly distributed in [0,1]\n",
    "  \n",
    "   if $s<e^{-[u(x_1^t)-u(x_1^t)]}$\n",
    "  \n",
    "   {\n",
    "    $x_1=x_1^t$\n",
    "    }\n",
    "    \n",
    "   else\n",
    "  \n",
    "   {\n",
    "    $x_1=x_0$\n",
    "   }\n",
    "  }"
   ]
  },
  {
   "cell_type": "code",
   "execution_count": 13,
   "metadata": {
    "scrolled": true,
    "slideshow": {
     "slide_type": "slide"
    }
   },
   "outputs": [],
   "source": [
    "def MCpropagator(x0,dx,N,dN,u):\n",
    "    count = 0\n",
    "    x = np.empty(N)\n",
    "    xcurrent = x0\n",
    "    while count <N:\n",
    "        innercount = 0\n",
    "        while innercount < dN:\n",
    "            rnd = np.random.uniform(0.0,1.0)\n",
    "            if rnd < 0.5:\n",
    "                xtrial = xcurrent - dx\n",
    "            else:\n",
    "                xtrial = xcurrent + dx\n",
    "\n",
    "            deltau = u(xtrial) - u(xcurrent)\n",
    "            if deltau < 0.0:\n",
    "                xcurrent = xtrial\n",
    "            else:\n",
    "                acceptanceratio = np.exp(-deltau)\n",
    "                if acceptanceratio > np.random.uniform(0.0,1.0):\n",
    "                    xcurrent = xtrial\n",
    "                else:\n",
    "                    xcurrent = xcurrent\n",
    "            innercount = innercount + 1\n",
    "        x[count]=xcurrent\n",
    "        count = count + 1\n",
    "    return x, count"
   ]
  },
  {
   "cell_type": "code",
   "execution_count": 14,
   "metadata": {
    "scrolled": true,
    "slideshow": {
     "slide_type": "slide"
    }
   },
   "outputs": [
    {
     "name": "stdout",
     "output_type": "stream",
     "text": [
      "Number of samples generated:   10000\n",
      "The distribution of the samples looks like:\n"
     ]
    },
    {
     "data": {
      "image/png": "[encoded data removed]",
      "text/plain": [
       "<Figure size 432x288 with 1 Axes>"
      ]
     },
     "metadata": {},
     "output_type": "display_data"
    }
   ],
   "source": [
    "dx = 0.01\n",
    "N = 10000\n",
    "dN = 1600\n",
    "x0 = -1.5\n",
    "x = np.empty(N)\n",
    "x, count = MCpropagator(x0,dx,N,dN,u0)\n",
    "print('Number of samples generated:%8d' %count)\n",
    "print('The distribution of the samples looks like:')\n",
    "prob, bins, patches = plt.hist(x, bins=50, density=True)\n",
    "mean = np.mean(x)\n",
    "variance = np.var(x)\n",
    "npdf = scipy.stats.norm.pdf(bins,mean,variance)\n",
    "plt.plot(bins, npdf, '--')\n",
    "plt.xlim(-5,7)\n",
    "plt.show()"
   ]
  },
  {
   "cell_type": "markdown",
   "metadata": {
    "slideshow": {
     "slide_type": "slide"
    }
   },
   "source": [
    "With these microstates sampled under $H_0$, we calculate the free energy difference."
   ]
  },
  {
   "cell_type": "code",
   "execution_count": 15,
   "metadata": {
    "scrolled": true,
    "slideshow": {
     "slide_type": "slide"
    }
   },
   "outputs": [],
   "source": [
    "def TP(x,u1,u0):\n",
    "    edu = np.zeros(x.size)\n",
    "    edu = np.exp(-(u1(x)-u0(x)))\n",
    "    S = np.mean(edu)\n",
    "    varS = np.var(edu)/x.size\n",
    "    deltaA = -np.log(S)\n",
    "    varA = varS/S**2\n",
    "    return deltaA, varA"
   ]
  },
  {
   "cell_type": "code",
   "execution_count": 16,
   "metadata": {
    "scrolled": true,
    "slideshow": {
     "slide_type": "slide"
    }
   },
   "outputs": [
    {
     "name": "stdout",
     "output_type": "stream",
     "text": [
      "The free energy difference from a direct TP calculation is    -0.51 +-  0.91\n"
     ]
    }
   ],
   "source": [
    "deltaA_direct, varA_direct = TP(x,u1,u0)\n",
    "print('The free energy difference from a direct TP calculation is %8.2f +- %5.2f' % (deltaA_direct, sqrt(varA_direct)))"
   ]
  },
  {
   "cell_type": "markdown",
   "metadata": {
    "collapsed": true,
    "slideshow": {
     "slide_type": "slide"
    }
   },
   "source": [
    "As you can see, the free energy differece from this direct TP calculation deviates from the true answer (1.31).\n",
    "In the following, we will use enveloping distribution sampling to enhance the samping in the overlap region. In this method, we first introduce a sampling Hamiltonian $H_R$ with a tunable parameter $s$ defined in Eq. \\ref{eq:H_R}."
   ]
  },
  {
   "cell_type": "code",
   "execution_count": 17,
   "metadata": {
    "scrolled": true,
    "slideshow": {
     "slide_type": "slide"
    }
   },
   "outputs": [],
   "source": [
    "def uR(s,u0,u1,x):\n",
    "    return -s**(-1)*np.log((np.exp(-s*u0(x))+np.exp(-s*u1(x))))"
   ]
  },
  {
   "cell_type": "markdown",
   "metadata": {
    "slideshow": {
     "slide_type": "slide"
    }
   },
   "source": [
    "We can plot the potential energy surfaces\n"
   ]
  },
  {
   "cell_type": "code",
   "execution_count": 18,
   "metadata": {
    "scrolled": true,
    "slideshow": {
     "slide_type": "slide"
    }
   },
   "outputs": [
    {
     "data": {
      "image/png": "[encoded data removed]",
      "text/plain": [
       "<Figure size 432x288 with 1 Axes>"
      ]
     },
     "metadata": {},
     "output_type": "display_data"
    }
   ],
   "source": [
    "x=np.linspace(-4.5,6.0,100,dtype=np.float64)\n",
    "y0=u0(x)\n",
    "y1=u1(x)\n",
    "ys1=uR(1,u0,u1,x)\n",
    "ys2=uR(0.5,u0,u1,x)\n",
    "plt.ylim(-1, 4)\n",
    "plt.plot(x,y0,'r')\n",
    "plt.plot(x,y1,'b')\n",
    "plt.plot(x,ys1)\n",
    "plt.plot(x,ys2)\n",
    "plt.show()"
   ]
  },
  {
   "cell_type": "markdown",
   "metadata": {
    "slideshow": {
     "slide_type": "slide"
    }
   },
   "source": [
    "It shows that $s=0.5$ can significantly reduce the energy barrier. Therefore, we will run a simulation on $H_R(s=0.5)$, and then calculate the free energy difference between $H_0$ and $H_R$, and that between $H_1$ and $H_R$."
   ]
  },
  {
   "cell_type": "code",
   "execution_count": 19,
   "metadata": {
    "scrolled": true,
    "slideshow": {
     "slide_type": "slide"
    }
   },
   "outputs": [],
   "source": [
    "def MCpropagator2(x0,dx,N,dN,uR,u0,u1,s):\n",
    "    count = 0\n",
    "    x = np.empty(N)\n",
    "    xcurrent = x0\n",
    "    while count < N:\n",
    "        innercount = 0\n",
    "        while innercount < dN:\n",
    "            rnd = np.random.uniform(0.,1.)\n",
    "            if rnd<0.5:\n",
    "                xtrial = xcurrent - dx\n",
    "            else:\n",
    "                xtrial = xcurrent + dx\n",
    "\n",
    "            deltau = uR(s,u0,u1,xtrial) - uR(s,u0,u1,xcurrent)\n",
    "            if deltau < 0:\n",
    "                xcurrent = xtrial\n",
    "            else:\n",
    "                acceptanceratio = np.exp(-deltau)\n",
    "                if acceptanceratio > np.random.uniform(0.0,1.0):\n",
    "                    xcurrent = xtrial\n",
    "                else:\n",
    "                    xcurrent = xcurrent\n",
    "            innercount = innercount + 1\n",
    "        x[count] = xcurrent\n",
    "        count = count + 1\n",
    "    return x, count\n",
    "\n",
    "def TP2(x,u,uR,u0,u1,s):\n",
    "    edu=np.zeros(x.size)\n",
    "    edu = np.exp(-(u(x)-uR(s,u0,u1,x)))\n",
    "    S = np.mean(edu)\n",
    "    varS = np.var(edu)/x.size\n",
    "    deltaA = -np.log(S)\n",
    "    varA = varS/S**2\n",
    "    return deltaA, varA"
   ]
  },
  {
   "cell_type": "code",
   "execution_count": 20,
   "metadata": {
    "scrolled": true,
    "slideshow": {
     "slide_type": "slide"
    }
   },
   "outputs": [
    {
     "name": "stdout",
     "output_type": "stream",
     "text": [
      "The free energy difference between U_0 to U_R is     0.74 +-  0.01\n",
      "The free energy difference between U_1 to U_R is     0.98 +-  0.01\n",
      "\n",
      "The total free energy difference is     0.24 +-  0.01\n"
     ]
    },
    {
     "data": {
      "image/png": "[encoded data removed]",
      "text/plain": [
       "<Figure size 432x288 with 1 Axes>"
      ]
     },
     "metadata": {},
     "output_type": "display_data"
    }
   ],
   "source": [
    "dx = 0.01\n",
    "N = 10000\n",
    "dN = 1600\n",
    "x0 = -1.5\n",
    "x = np.empty(N)\n",
    "s = 0.5\n",
    "x, count = MCpropagator2(x0,dx,N,dN,uR,u0,u1,s)\n",
    "prob, bins, patches = plt.hist(x, bins=50, density=True)\n",
    "mean = np.mean(x)\n",
    "variance = np.var(x)\n",
    "deltaA0, varA0 = TP2(x,u0,uR,u0,u1,s)\n",
    "print('The free energy difference between U_0 to U_R is %8.2f +- %5.2f' % (deltaA0, np.sqrt(varA0)))\n",
    "deltaA1, varA1 = TP2(x,u1,uR,u0,u1,s)\n",
    "print('The free energy difference between U_1 to U_R is %8.2f +- %5.2f' % (deltaA1, np.sqrt(varA1)))\n",
    "print('')\n",
    "print('The total free energy difference is %8.2f +- %5.2f' %(deltaA1-deltaA0,np.sqrt(varA0+varA1)))\n",
    "plt.show()"
   ]
  },
  {
   "cell_type": "markdown",
   "metadata": {},
   "source": [
    "Next, we will make some modifications to this method by \n",
    "\\begin{equation}\n",
    "\tH_R(\\mathbf{r})=-\\left(s\\beta\\right)^{-1}\\ln{\\left(e^{-s\\beta \\left[H_A(\\mathbf{r})-H_A^{min}\\right]}+e^{-s\\beta \\left[H_B(\\mathbf{r})-H_B^{min}\\right]}\\right)}.\n",
    "\\end{equation}\n"
   ]
  },
  {
   "cell_type": "code",
   "execution_count": 21,
   "metadata": {},
   "outputs": [
    {
     "data": {
      "image/png": "[encoded data removed]",
      "text/plain": [
       "<Figure size 432x288 with 1 Axes>"
      ]
     },
     "metadata": {},
     "output_type": "display_data"
    }
   ],
   "source": [
    "def u0shift(x):\n",
    "    return (x+2)**2\n",
    "def u1shift(x):\n",
    "    return 0.25*(x-2)**2\n",
    "x=np.linspace(-5,7,100)\n",
    "y0=u0shift(x)\n",
    "y1=u1shift(x)\n",
    "ys1=uR(1,u0shift,u1shift,x)\n",
    "ys2=uR(0.5,u0shift,u1shift,x)\n",
    "plt.ylim(-1, 4)\n",
    "plt.plot(x,y0,'r')\n",
    "plt.plot(x,y1,'b')\n",
    "plt.plot(x,ys1)\n",
    "plt.plot(x,ys2)\n",
    "plt.show()"
   ]
  },
  {
   "cell_type": "markdown",
   "metadata": {},
   "source": [
    "It can be seen from this Figure that the energy barrier is lowered a little bit further than the original EDS. Practically, we can run two simulation under $H_0$ and $H_1$, respectively, and calculate the lowest energies for $H_0$ and $H_1$ out of these two trajectories."
   ]
  },
  {
   "cell_type": "code",
   "execution_count": 22,
   "metadata": {},
   "outputs": [
    {
     "name": "stdout",
     "output_type": "stream",
     "text": [
      "The free energy difference between U_0 to U_R is     1.25 +-  0.01\n",
      "The free energy difference between U_1 to U_R is     1.57 +-  0.01\n",
      "\n",
      "The total free energy difference is     0.33 +-  0.01\n"
     ]
    },
    {
     "data": {
      "image/png": "[encoded data removed]",
      "text/plain": [
       "<Figure size 432x288 with 1 Axes>"
      ]
     },
     "metadata": {},
     "output_type": "display_data"
    }
   ],
   "source": [
    "dx = 0.01\n",
    "N = 10000\n",
    "dN = 1600\n",
    "x0 = -1.5\n",
    "x = np.empty(N)\n",
    "s = 0.5\n",
    "x, count = MCpropagator2(x0,dx,N,dN,uR,u0shift,u1shift,s)\n",
    "prob, bins, patches = plt.hist(x, bins=50, density=True)\n",
    "mean = np.mean(x)\n",
    "variance = np.var(x)\n",
    "deltaA0shift, varA0shift = TP2(x,u0,uR,u0shift,u1shift,s)\n",
    "print('The free energy difference between U_0 to U_R is %8.2f +- %5.2f' % (deltaA0shift, np.sqrt(varA0shift)))\n",
    "deltaA1shift, varA1shift = TP2(x,u1,uR,u0shift,u1shift,s)\n",
    "print('The free energy difference between U_1 to U_R is %8.2f +- %5.2f' % (deltaA1shift, np.sqrt(varA1shift)))\n",
    "print('')\n",
    "print('The total free energy difference is %8.2f +- %5.2f' %(deltaA1shift-deltaA0shift,np.sqrt(varA0shift+varA1shift)))\n",
    "plt.show()"
   ]
  },
  {
   "cell_type": "markdown",
   "metadata": {},
   "source": [
    "# References\n",
    "\n",
    "<mark> <b>The bib file freeenergy.bib was not found\n",
    "\n",
    "</b> </mark>(<a id=\"cit-ChristJCP2007\" href=\"#call-ChristJCP2007\">?</a>) !! _This reference was not found in freeenergy.bib _ !!\n",
    "\n"
   ]
  }
 ],
 "metadata": {
  "kernelspec": {
   "display_name": "Python 3",
   "language": "python",
   "name": "python3"
  },
  "language_info": {
   "codemirror_mode": {
    "name": "ipython",
    "version": 3
   },
   "file_extension": ".py",
   "mimetype": "text/x-python",
   "name": "python",
   "nbconvert_exporter": "python",
   "pygments_lexer": "ipython3",
   "version": "3.6.5"
  },
  "latex_envs": {
   "LaTeX_envs_menu_present": true,
   "autocomplete": true,
   "bibliofile": "freeenergy.bib",
   "cite_by": "apalike",
   "current_citInitial": 1,
   "eqLabelWithNumbers": true,
   "eqNumInitial": 1,
   "hotkeys": {
    "equation": "Ctrl-E",
    "itemize": "Ctrl-I"
   },
   "labels_anchors": false,
   "latex_user_defs": false,
   "report_style_numbering": false,
   "user_envs_cfg": false
  }
 },
 "nbformat": 4,
 "nbformat_minor": 2
}
