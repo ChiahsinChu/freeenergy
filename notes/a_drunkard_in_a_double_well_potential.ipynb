{
 "cells": [
  {
   "cell_type": "code",
   "execution_count": null,
   "metadata": {},
   "outputs": [],
   "source": [
    "%matplotlib inline\n",
    "from math import *\n",
    "import numpy as np\n",
    "import random\n",
    "import matplotlib.pyplot as plt\n",
    "np.set_printoptions(precision=3)\n",
    "def u(x):\n",
    "    return -np.log(np.exp(-(x+2.0)**2)+np.exp(-(x-2.0)**2))\n",
    "\n",
    "x=np.linspace(-4.5,4.5,200)\n",
    "y=u(x)\n",
    "plt.plot(x,y)\n",
    "plt.show()"
   ]
  },
  {
   "cell_type": "code",
   "execution_count": null,
   "metadata": {
    "scrolled": true
   },
   "outputs": [],
   "source": [
    "x = -2.0\n",
    "dx = 0.01\n",
    "Nsamples = 10**5\n",
    "count = 0\n",
    "xarray = np.empty(Nsamples)\n",
    "while count < Nsamples:\n",
    "    rnd = np.random.uniform(0.,1.)\n",
    "    if rnd < 0.5:\n",
    "        xtrial = x - dx\n",
    "    else:\n",
    "        xtrial = x + dx\n",
    "\n",
    "    deltau = u(xtrial) - u(x)\n",
    "    if deltau < 0.0:\n",
    "        x = xtrial\n",
    "    else:\n",
    "        acceptanceratio = np.exp( -deltau )\n",
    "        if acceptanceratio > np.random.uniform(0., 1.):\n",
    "            x = xtrial\n",
    "        else:\n",
    "            x = x\n",
    "    xarray[count] = x\n",
    "    count = count + 1\n",
    "plt.hist(xarray, bins=40, density=True)\n",
    "plt.xlim(-5,5)\n",
    "plt.show()"
   ]
  },
  {
   "cell_type": "code",
   "execution_count": null,
   "metadata": {},
   "outputs": [],
   "source": []
  }
 ],
 "metadata": {
  "kernelspec": {
   "display_name": "Python 3",
   "language": "python",
   "name": "python3"
  },
  "language_info": {
   "codemirror_mode": {
    "name": "ipython",
    "version": 3
   },
   "file_extension": ".py",
   "mimetype": "text/x-python",
   "name": "python",
   "nbconvert_exporter": "python",
   "pygments_lexer": "ipython3",
   "version": "3.6.4"
  },
  "latex_envs": {
   "LaTeX_envs_menu_present": true,
   "autocomplete": true,
   "bibliofile": "biblio.bib",
   "cite_by": "apalike",
   "current_citInitial": 1,
   "eqLabelWithNumbers": true,
   "eqNumInitial": 1,
   "hotkeys": {
    "equation": "Ctrl-E",
    "itemize": "Ctrl-I"
   },
   "labels_anchors": false,
   "latex_user_defs": false,
   "report_style_numbering": false,
   "user_envs_cfg": false
  }
 },
 "nbformat": 4,
 "nbformat_minor": 2
}
