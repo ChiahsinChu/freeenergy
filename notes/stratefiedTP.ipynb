{
 "cells": [
  {
   "cell_type": "markdown",
   "metadata": {
    "slideshow": {
     "slide_type": "slide"
    }
   },
   "source": [
    "In this script, we are going to calculate the free energy difference between states.\n",
    "State 0 has a Hamiltonian $H_0=(x+2)^2$ in one-dimensional space, and state 1 has a Hamiltonian $H_1=(x-2)^2$.\n",
    "These two Hamiltonians have the same shape, but shifted by 4 units along the axis.\n",
    "Therefore, the free energy difference between these two states is zero, which can be seen from\n",
    "\\begin{equation}\n",
    "\\Delta A=-\\ln\\frac{\\int\\limits_{-\\infty}^{\\infty} e^{-H_1(x)}dx}{\\int\\limits_{-\\infty}^{\\infty} e^{-H_0(x)}dx}=-\\ln\\frac{\\int\\limits_{-\\infty}^{\\infty} e^{-(x-2)^2}dx}{\\int\\limits_{-\\infty}^{\\infty} e^{-(x+2)^2}dx}=-\\ln\\frac{\\int\\limits_{-\\infty}^{\\infty} e^{-(x-2)^2}dx}{\\int\\limits_{-\\infty}^{\\infty} e^{-(y-2)^2}dy}=-\\ln 1=0\n",
    "\\end{equation}"
   ]
  },
  {
   "cell_type": "markdown",
   "metadata": {
    "slideshow": {
     "slide_type": "slide"
    }
   },
   "source": [
    "We will use Thermodynamic Perturbation to calculate the free energy difference, which can be written as\n",
    "\\begin{eqnarray}\n",
    "\\Delta A=-\\ln\\frac{\\int\\limits_{-\\infty}^{\\infty} e^{-H_1(x)}dx}{\\int\\limits_{-\\infty}^{\\infty} e^{-H_0(x)}dx}=-\\ln\\frac{\\int\\limits_{-\\infty}^{\\infty} e^{-(H_1(x)-H_0(x))}e^{-H_0(x)}dx}{Z_0}=-\\ln\\left<e^{-\\Delta H}\\right>_0=-\\ln\\frac{1}{N_0}\\sum\\limits_{i=1}^{N_0}e^{-\\Delta H_i}\n",
    "\\end{eqnarray}\n",
    "We should also calculate the variance of $\\Delta A$, which gives us the confidence of the number we obtain. The vaiance of quantity $x$ is defined as\n",
    "$$\\sigma^2_x=<x^2>-<x>^2.$$\n",
    "The error propagation rule for variance is\n",
    "$$\\sigma^2_{f(x,y)}=\\left(\\frac{\\partial f}{\\partial x}\\right)^2\\sigma^2_x+\\left(\\frac{\\partial f}{\\partial y}\\right)^2\\sigma^2_y+2\\frac{\\partial f}{\\partial x}\\frac{\\partial f}{\\partial y}cov(x,y)$$\n",
    "If we assume the samples are independent, the variance of the mean of $x$ equals to the variance of the sample divided by the number of samples, i.e.\n",
    "$$\\sigma^2_{<x>}=\\frac{1}{N}\\sigma^2_x.$$\n",
    "Let's define $S=\\frac{1}{N_0}\\sum\\limits_{i=1}^{N_0}e^{-\\Delta H_i}$, then we have\n",
    "$$\\sigma^2_{\\Delta A}=\\frac{1}{S^2}\\sigma^2_S$$"
   ]
  },
  {
   "cell_type": "markdown",
   "metadata": {
    "slideshow": {
     "slide_type": "slide"
    }
   },
   "source": [
    "**Q: Where is the temperature?**"
   ]
  },
  {
   "cell_type": "code",
   "execution_count": null,
   "metadata": {
    "scrolled": true,
    "slideshow": {
     "slide_type": "slide"
    }
   },
   "outputs": [],
   "source": [
    "from math import *\n",
    "import numpy as np\n",
    "import random\n",
    "import scipy.stats\n",
    "import matplotlib.pyplot as plt\n",
    "import matplotlib.mlab as mlab\n",
    "np.set_printoptions(precision=3)\n",
    "def u0(x):\n",
    "    return (x+1.5)**2\n",
    "def u1(x):\n",
    "    return (x-1.5)**2\n",
    "x=np.linspace(-4,4,200)\n",
    "y0=u0(x)\n",
    "y1=u1(x)\n",
    "plt.ylim(-.5, 6)\n",
    "plt.plot(x,y0,'r',x,y1,'b')\n",
    "plt.show()"
   ]
  },
  {
   "cell_type": "markdown",
   "metadata": {
    "slideshow": {
     "slide_type": "slide"
    }
   },
   "source": [
    "In the first step, we will apply a direct TP calculation using the Equation shown above. \n",
    "Taking the explicit expressions for $H_0$ and $H_1$ in the equation above, we have\n",
    "\\begin{equation}\n",
    "\\Delta A=-\\ln \\left<e^{-\\left[(x-2)^2-(x+2)^2\\right]}\\right>_0=-\\ln\\left<8x\\right>_0\n",
    "\\end{equation}"
   ]
  },
  {
   "cell_type": "markdown",
   "metadata": {
    "slideshow": {
     "slide_type": "slide"
    }
   },
   "source": [
    "Now we define a Monte Carlo (MC) propagator for this simulation. \n",
    "In the MC simulation, the transition between states must satisfy the detailed balance, i.e.\n",
    "$$\\rho(x_i)P(x_i,x_j)=\\rho(x_j)P(x_j,x_i),$$\n",
    "where $\\rho(x_i)$ and $P(x_i,x_j)$ are the probability of the microstate $x_i$ and the transition probability from $x_i$ to $x_j$, \n",
    "respectively.\n",
    "Suppose at $t_0$ the system is located at microstate $x_0$ with energy u(x_0). We make a random trial move to $x_1^t$ with energy \n",
    "$u(x_1^t)$.\n",
    "\n",
    "if $u(x_1^t)<u(x_1^t)$\n",
    "\n",
    "  {\n",
    "  $x_1=x_1^t$\n",
    "  }\n",
    "  \n",
    "else\n",
    "\n",
    "  {\n",
    "   generate a random number s evenly distributed in [0,1]\n",
    "  \n",
    "   if $s<e^{-[u(x_1^t)-u(x_1^t)]}$\n",
    "  \n",
    "   {\n",
    "    $x_1=x_1^t$\n",
    "    }\n",
    "    \n",
    "   else\n",
    "  \n",
    "   {\n",
    "    $x_1=x_0$\n",
    "   }\n",
    "  }"
   ]
  },
  {
   "cell_type": "code",
   "execution_count": null,
   "metadata": {
    "scrolled": true,
    "slideshow": {
     "slide_type": "slide"
    }
   },
   "outputs": [],
   "source": [
    "def MCpropagator(x0,dx,N,dN,u):\n",
    "    count = 0\n",
    "    x = np.empty(N)\n",
    "    xcurrent = x0\n",
    "    while count <N:\n",
    "        innercount = 0\n",
    "        while innercount < dN:\n",
    "            rnd = np.random.uniform(0.0,1.0)\n",
    "            if rnd < 0.5:\n",
    "                xtrial = xcurrent - dx\n",
    "            else:\n",
    "                xtrial = xcurrent + dx\n",
    "\n",
    "            deltau = u(xtrial) - u(xcurrent)\n",
    "            if deltau < 0.0:\n",
    "                xcurrent = xtrial\n",
    "            else:\n",
    "                acceptanceratio = np.exp(-deltau)\n",
    "                if acceptanceratio > np.random.uniform(0.0,1.0):\n",
    "                    xcurrent = xtrial\n",
    "                else:\n",
    "                    xcurrent = xcurrent\n",
    "            innercount = innercount + 1\n",
    "        x[count]=xcurrent\n",
    "        count = count + 1\n",
    "    return x, count"
   ]
  },
  {
   "cell_type": "code",
   "execution_count": null,
   "metadata": {
    "scrolled": true,
    "slideshow": {
     "slide_type": "slide"
    }
   },
   "outputs": [],
   "source": [
    "dx = 0.01\n",
    "N = 10000\n",
    "dN = 1600\n",
    "x0 = -1.5\n",
    "x = np.empty(N)\n",
    "x, count = MCpropagator(x0,dx,N,dN,u0)\n",
    "print('Number of samples generated:%8d' %count)\n",
    "print('The distribution of the samples looks like:')\n",
    "prob, bins, patches = plt.hist(x, bins=50, density=True)\n",
    "mean = np.mean(x)\n",
    "variance = np.var(x)\n",
    "npdf = scipy.stats.norm.pdf(bins,mean,variance)\n",
    "plt.plot(bins, npdf, '--')\n",
    "plt.xlim(-4,4)\n",
    "plt.show()"
   ]
  },
  {
   "cell_type": "markdown",
   "metadata": {
    "slideshow": {
     "slide_type": "slide"
    }
   },
   "source": [
    "With these microstates sampled under $H_0$, we calculate the free energy difference."
   ]
  },
  {
   "cell_type": "code",
   "execution_count": null,
   "metadata": {
    "scrolled": true,
    "slideshow": {
     "slide_type": "slide"
    }
   },
   "outputs": [],
   "source": [
    "def TP(x,u1,u0):\n",
    "    edu = np.zeros(x.size)\n",
    "    edu = np.exp(-(u1(x)-u0(x)))\n",
    "    S = np.mean(edu)\n",
    "    varS = np.var(edu)/x.size\n",
    "    deltaA = -np.log(S)\n",
    "    varA = varS/S**2\n",
    "    return deltaA, varA"
   ]
  },
  {
   "cell_type": "code",
   "execution_count": null,
   "metadata": {
    "scrolled": true,
    "slideshow": {
     "slide_type": "slide"
    }
   },
   "outputs": [],
   "source": [
    "deltaA_direct, varA_direct = TP(x,u1,u0)\n",
    "print('The free energy difference from a direct TP calculation is %8.2f +- %5.2f' % (deltaA_direct, sqrt(varA_direct)))"
   ]
  },
  {
   "cell_type": "markdown",
   "metadata": {
    "collapsed": true,
    "slideshow": {
     "slide_type": "slide"
    }
   },
   "source": [
    "As you can see, the free energy differece from this direct TP calculation deviates from the true answer.\n",
    "In the following, we will use another sampling method termed stratified sampling. In this method, we first introduce a series of intermediate states with a Hamiltonian $H_\\lambda=\\lambda H_1+(1-\\lambda)H_0,\\, \\lambda \\in (0,1)$. When $\\lambda=0,\\, H_\\lambda=H_0$. And $H_\\lambda=H_1$, when $\\lambda=1$. The function for $H_\\lambda$ is:"
   ]
  },
  {
   "cell_type": "code",
   "execution_count": null,
   "metadata": {
    "scrolled": true,
    "slideshow": {
     "slide_type": "slide"
    }
   },
   "outputs": [],
   "source": [
    "def ulmbd(lamb,x):\n",
    "    return (1-lamb)*u0(x)+lamb*u1(x)"
   ]
  },
  {
   "cell_type": "markdown",
   "metadata": {
    "slideshow": {
     "slide_type": "slide"
    }
   },
   "source": [
    "We can plot the potential energy surfaces\n"
   ]
  },
  {
   "cell_type": "code",
   "execution_count": null,
   "metadata": {
    "scrolled": true,
    "slideshow": {
     "slide_type": "slide"
    }
   },
   "outputs": [],
   "source": [
    "x=np.linspace(-4,4,200)\n",
    "y0=ulmbd(0.0,x)\n",
    "y1=ulmbd(0.1,x)\n",
    "y2=ulmbd(0.2,x)\n",
    "y5=ulmbd(0.5,x)\n",
    "y8=ulmbd(0.8,x)\n",
    "y9=ulmbd(0.9,x)\n",
    "yN=ulmbd(1.0,x)\n",
    "plt.ylim(-.5, 6)\n",
    "plt.plot(x,y0,'r')\n",
    "plt.plot(x,yN,'b')\n",
    "plt.plot(x,y1)\n",
    "plt.plot(x,y2)\n",
    "plt.plot(x,y5)\n",
    "plt.plot(x,y8)\n",
    "plt.plot(x,y9)\n",
    "plt.show()"
   ]
  },
  {
   "cell_type": "markdown",
   "metadata": {
    "slideshow": {
     "slide_type": "slide"
    }
   },
   "source": [
    "The free energy difference between $H_0$ and $H_1$ can be written as the sum of the free energy difference between each pair of neighboring states, i.e.\n",
    "$$\\Delta A_{0\\rightarrow 1}=\\sum\\limits_{i=0}^{N-1}\\Delta A_{\\lambda_i\\rightarrow \\lambda_{i+1}}$$\n",
    "We keep the total number of samples fixed and evenly distribute the samples to each simulation under $H_\\lambda$."
   ]
  },
  {
   "cell_type": "code",
   "execution_count": null,
   "metadata": {
    "scrolled": true,
    "slideshow": {
     "slide_type": "slide"
    }
   },
   "outputs": [],
   "source": [
    "def MCpropagator2(x0,dx,N,dN,ulmbd,lamb):\n",
    "    count = 0\n",
    "    x = np.empty(N)\n",
    "    xcurrent = x0\n",
    "    while count < N:\n",
    "        innercount = 0\n",
    "        while innercount < dN:\n",
    "            rnd = np.random.uniform(0.,1.)\n",
    "            if rnd<0.5:\n",
    "                xtrial = xcurrent - dx\n",
    "            else:\n",
    "                xtrial = xcurrent + dx\n",
    "\n",
    "            deltau = ulmbd(lamb,xtrial) - ulmbd(lamb,xcurrent)\n",
    "            if deltau < 0:\n",
    "                xcurrent = xtrial\n",
    "            else:\n",
    "                acceptanceratio = np.exp(-deltau)\n",
    "                if acceptanceratio > np.random.uniform(0.0,1.0):\n",
    "                    xcurrent = xtrial\n",
    "                else:\n",
    "                    xcurrent = xcurrent\n",
    "            innercount = innercount + 1\n",
    "        x[count] = xcurrent\n",
    "        count = count + 1\n",
    "    return x, count\n",
    "\n",
    "def TP2(x,ulmbd,lmbd1,lmbd2):\n",
    "    edu=np.zeros(x.size)\n",
    "    edu = np.exp(-(ulmbd(lmbd2,x)-ulmbd(lmbd1,x)))\n",
    "    S = np.mean(edu)\n",
    "    varS = np.var(edu)/x.size\n",
    "    deltaA = -np.log(S)\n",
    "    varA = varS/S**2\n",
    "    return deltaA, varA"
   ]
  },
  {
   "cell_type": "code",
   "execution_count": null,
   "metadata": {
    "scrolled": true,
    "slideshow": {
     "slide_type": "slide"
    }
   },
   "outputs": [],
   "source": [
    "dx = 0.01\n",
    "dlambda = 0.1\n",
    "lambs = np.arange(0.0,1.,dlambda)\n",
    "lambs = np.append(lambs,[1.0])\n",
    "Ns = N//(len(lambs)-1)\n",
    "deltaA = np.zeros(len(lambs)-1)\n",
    "varA = np.zeros(len(lambs)-1)\n",
    "i = 0\n",
    "for i in range(len(lambs)-1):\n",
    "    x0 = -1.5 + 3.0*i*dlambda\n",
    "    x = np.empty(Ns)\n",
    "    x, count = MCpropagator2(x0,dx,Ns,dN,ulmbd,lambs[i])\n",
    "#    print('Number of samples generated:%8d for lambda= %5.2f' %(count,lambs[i]))\n",
    "    prob, bins, patches = plt.hist(x, bins=50, density=True)\n",
    "    mean = np.mean(x)\n",
    "    variance = np.var(x)\n",
    "    npdf = scipy.stats.norm.pdf(bins,mean,variance)\n",
    "    plt.plot(bins, npdf, '--')\n",
    "    deltaA[i], varA[i] = TP2(x,ulmbd,lambs[i],lambs[i+1])\n",
    "    print('The free energy difference from lambda %d to lambda %d is %8.2f +- %5.2f' % (i,i+1,deltaA[i], sqrt(varA[i])))\n",
    "\n",
    "print('')\n",
    "print('The total free energy difference is %8.2f +- %5.2f' %(np.sum(deltaA),sqrt(np.sum(varA))))\n",
    "plt.show()"
   ]
  },
  {
   "cell_type": "code",
   "execution_count": null,
   "metadata": {},
   "outputs": [],
   "source": []
  }
 ],
 "metadata": {
  "kernelspec": {
   "display_name": "Python 3",
   "language": "python",
   "name": "python3"
  },
  "language_info": {
   "codemirror_mode": {
    "name": "ipython",
    "version": 3
   },
   "file_extension": ".py",
   "mimetype": "text/x-python",
   "name": "python",
   "nbconvert_exporter": "python",
   "pygments_lexer": "ipython3",
   "version": "3.6.4"
  },
  "latex_envs": {
   "LaTeX_envs_menu_present": true,
   "autocomplete": true,
   "bibliofile": "biblio.bib",
   "cite_by": "apalike",
   "current_citInitial": 1,
   "eqLabelWithNumbers": true,
   "eqNumInitial": 1,
   "hotkeys": {
    "equation": "Ctrl-E",
    "itemize": "Ctrl-I"
   },
   "labels_anchors": false,
   "latex_user_defs": false,
   "report_style_numbering": false,
   "user_envs_cfg": false
  }
 },
 "nbformat": 4,
 "nbformat_minor": 2
}
