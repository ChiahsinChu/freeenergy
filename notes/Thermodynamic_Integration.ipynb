{
 "cells": [
  {
   "cell_type": "markdown",
   "metadata": {},
   "source": [
    "In this script, we are going to calculate the free energy difference between two states.\n",
    "State 0 has a Hamiltonian $H_0=(x+1.5)^2$ in one-dimensional space, and state 1 has a Hamiltonian $H_1=(x-1.5)^2$.\n",
    "These two Hamiltonians have the same shape, but shifted by 3 units along the axis.\n",
    "Therefore, the free energy difference between these two states is zero, which can be seen from\n",
    "\\begin{equation}\n",
    "\\Delta A=-\\ln\\frac{\\int\\limits_{-\\infty}^{\\infty} e^{-H_1(x)}dx}{\\int\\limits_{-\\infty}^{\\infty} e^{-H_0(x)}dx}=-\\ln\\frac{\\int\\limits_{-\\infty}^{\\infty} e^{-(x-2)^2}dx}{\\int\\limits_{-\\infty}^{\\infty} e^{-(x+2)^2}dx}=-\\ln\\frac{\\int\\limits_{-\\infty}^{\\infty} e^{-(x-2)^2}dx}{\\int\\limits_{-\\infty}^{\\infty} e^{-(y-2)^2}dy}=-\\ln 1=0\n",
    "\\end{equation}"
   ]
  },
  {
   "cell_type": "markdown",
   "metadata": {},
   "source": [
    "We will use Thermodynamic Integration to calculate the free energy difference. In the first step, we define a Hamiltonian $H(\\lambda)$, which smoothly switchs from $H_0$ to $H_1$ with $\\lambda$ increasing from 0 to 1. Probably the simplest one for $H(\\lambda)$ is a linear combination of $H_0$ and $H_1$, i.e.\n",
    "$$\n",
    "H(\\lambda)=(1-\\lambda)H_0+\\lambda H_1.\n",
    "$$\n",
    "You can easily find the gradient of H(\\lambda) on $\\lambda$, which is\n",
    "$$\n",
    "\\frac{\\partial H(\\lambda)}{\\partial \\lambda}=H_1-H_0\n",
    "$$\n",
    "and will be used later.\n",
    "The free energy associated with this Hamiltonian is $A(\\lambda)$. Then the free energy change from $\\lambda=0$ to $\\lambda=1$ can be written as \n",
    "\\begin{eqnarray}\n",
    "\\Delta A=&\\int\\limits_{0}^{1} \\frac{\\partial A(\\lambda)}{\\partial \\lambda}d\\lambda=\\int\\limits_{0}^{1} -\\beta^{-1}\\frac{\\partial \\ln Q(\\lambda)}{\\partial \\lambda}d\\lambda=\\int\\limits_{0}^{1} -\\frac{\\beta^{-1}}{Q(\\lambda)}\\frac{\\partial Q(\\lambda)}{\\partial \\lambda}d\\lambda\\\\\n",
    "=&\\int\\limits_{0}^{1} -\\frac{\\beta^{-1}}{Q(\\lambda)}\\frac{\\partial \\int e^{-\\beta H(x,\\lambda)}dx}{\\partial \\lambda}d\\lambda=\\int\\limits_{0}^{1} \\frac{\\int \\frac{\\partial H(\\lambda)}{\\partial \\lambda}e^{-\\beta H(x,\\lambda)}dx}{Q(\\lambda)}d\\lambda\\\\\n",
    "=&\\int\\limits_0^1 \\left<\\frac{\\partial H(\\lambda)}{\\partial \\lambda}\\right>_{\\lambda}d\\lambda\\\\\n",
    "\\end{eqnarray}\n",
    "With the definition of $H(\\lambda)$ above using the linear combination of $H_0$ and $H_1$, we have\n",
    "$$\n",
    "\\Delta A=\\int\\limits_0^1 \\left<H_1-H_0\\right>_{\\lambda}d\\lambda.\n",
    "$$\n",
    "Therefore, the calculation of free energy difference becomes a integration in $\\lambda$ space. Using the simplest integration method, the trapezoidal integration, it becomes\n",
    "$$\n",
    "\\Delta A = \\sum\\limits_i \\frac12 \\left(\\left<H_1-H_0\\right>_{\\lambda_i}+\\left<H_1-H_0\\right>_{\\lambda_{i+1}}\\right)\\Delta \\lambda\n",
    "$$"
   ]
  },
  {
   "cell_type": "code",
   "execution_count": 2,
   "metadata": {},
   "outputs": [
    {
     "data": {
      "image/png": "[encoded data removed]",
      "text/plain": [
       "<Figure size 432x288 with 1 Axes>"
      ]
     },
     "metadata": {},
     "output_type": "display_data"
    }
   ],
   "source": [
    "from math import *\n",
    "import numpy as np\n",
    "import random\n",
    "import matplotlib.pyplot as plt\n",
    "import matplotlib.mlab as mlab\n",
    "import scipy.stats\n",
    "np.set_printoptions(precision=3)\n",
    "def u0(x):\n",
    "    return (x+1.5)**2\n",
    "def u1(x):\n",
    "    return (x-1.5)**2\n",
    "x=np.linspace(-4,4,100)\n",
    "y0=u0(x)\n",
    "y1=u1(x)\n",
    "plt.ylim(-.5, 6)\n",
    "plt.plot(x,y0,'r',x,y1,'b')\n",
    "plt.show()"
   ]
  },
  {
   "cell_type": "code",
   "execution_count": null,
   "metadata": {
    "collapsed": true
   },
   "outputs": [],
   "source": [
    "def ulmbd(lamb,x):\n",
    "    return (1-lamb)*u0(x)+lamb*u1(x)"
   ]
  },
  {
   "cell_type": "code",
   "execution_count": 3,
   "metadata": {},
   "outputs": [
    {
     "ename": "NameError",
     "evalue": "name 'ulmbd' is not defined",
     "output_type": "error",
     "traceback": [
      "\u001b[0;31m---------------------------------------------------------------------------\u001b[0m",
      "\u001b[0;31mNameError\u001b[0m                                 Traceback (most recent call last)",
      "\u001b[0;32m<ipython-input-3-7a449001b518>\u001b[0m in \u001b[0;36m<module>\u001b[0;34m()\u001b[0m\n\u001b[1;32m      1\u001b[0m \u001b[0mx\u001b[0m\u001b[0;34m=\u001b[0m\u001b[0mnp\u001b[0m\u001b[0;34m.\u001b[0m\u001b[0mlinspace\u001b[0m\u001b[0;34m(\u001b[0m\u001b[0;34m-\u001b[0m\u001b[0;36m4\u001b[0m\u001b[0;34m,\u001b[0m\u001b[0;36m4\u001b[0m\u001b[0;34m,\u001b[0m\u001b[0;36m100\u001b[0m\u001b[0;34m)\u001b[0m\u001b[0;34m\u001b[0m\u001b[0m\n\u001b[0;32m----> 2\u001b[0;31m \u001b[0my0\u001b[0m\u001b[0;34m=\u001b[0m\u001b[0mulmbd\u001b[0m\u001b[0;34m(\u001b[0m\u001b[0;36m0.0\u001b[0m\u001b[0;34m,\u001b[0m\u001b[0mx\u001b[0m\u001b[0;34m)\u001b[0m\u001b[0;34m\u001b[0m\u001b[0m\n\u001b[0m\u001b[1;32m      3\u001b[0m \u001b[0my1\u001b[0m\u001b[0;34m=\u001b[0m\u001b[0mulmbd\u001b[0m\u001b[0;34m(\u001b[0m\u001b[0;36m0.1\u001b[0m\u001b[0;34m,\u001b[0m\u001b[0mx\u001b[0m\u001b[0;34m)\u001b[0m\u001b[0;34m\u001b[0m\u001b[0m\n\u001b[1;32m      4\u001b[0m \u001b[0my2\u001b[0m\u001b[0;34m=\u001b[0m\u001b[0mulmbd\u001b[0m\u001b[0;34m(\u001b[0m\u001b[0;36m0.2\u001b[0m\u001b[0;34m,\u001b[0m\u001b[0mx\u001b[0m\u001b[0;34m)\u001b[0m\u001b[0;34m\u001b[0m\u001b[0m\n\u001b[1;32m      5\u001b[0m \u001b[0my5\u001b[0m\u001b[0;34m=\u001b[0m\u001b[0mulmbd\u001b[0m\u001b[0;34m(\u001b[0m\u001b[0;36m0.5\u001b[0m\u001b[0;34m,\u001b[0m\u001b[0mx\u001b[0m\u001b[0;34m)\u001b[0m\u001b[0;34m\u001b[0m\u001b[0m\n",
      "\u001b[0;31mNameError\u001b[0m: name 'ulmbd' is not defined"
     ]
    }
   ],
   "source": [
    "x=np.linspace(-4,4,100)\n",
    "y0=ulmbd(0.0,x)\n",
    "y1=ulmbd(0.1,x)\n",
    "y2=ulmbd(0.2,x)\n",
    "y5=ulmbd(0.5,x)\n",
    "y8=ulmbd(0.8,x)\n",
    "y9=ulmbd(0.9,x)\n",
    "yN=ulmbd(1.0,x)\n",
    "plt.ylim(-.5, 6)\n",
    "plt.plot(x,y0,'r')\n",
    "plt.plot(x,yN,'b')\n",
    "plt.plot(x,y1)\n",
    "plt.plot(x,y2)\n",
    "plt.plot(x,y5)\n",
    "plt.plot(x,y8)\n",
    "plt.plot(x,y9)\n",
    "plt.show()"
   ]
  },
  {
   "cell_type": "code",
   "execution_count": null,
   "metadata": {
    "collapsed": true
   },
   "outputs": [],
   "source": [
    "def MCpropagator2(x0,dx,N,dN,ulmbd,lamb):\n",
    "    count = 0\n",
    "    x = np.empty(N)\n",
    "    xcurrent = x0\n",
    "    while count < N:\n",
    "        innercount = 0\n",
    "        while innercount < dN:\n",
    "            rnd = np.random.uniform(0.,1.)\n",
    "            if rnd<0.5:\n",
    "                xtrial = xcurrent - dx\n",
    "            else:\n",
    "                xtrial = xcurrent + dx\n",
    "\n",
    "            deltau = ulmbd(lamb,xtrial) - ulmbd(lamb,xcurrent)\n",
    "            if deltau < 0:\n",
    "                xcurrent = xtrial\n",
    "            else:\n",
    "                acceptanceratio = np.exp(-deltau)\n",
    "                if acceptanceratio > np.random.uniform(0.0,1.0):\n",
    "                    xcurrent = xtrial\n",
    "                else:\n",
    "                    xcurrent = xcurrent\n",
    "            innercount = innercount + 1\n",
    "        x[count] = xcurrent\n",
    "        count = count + 1\n",
    "    return x, count\n",
    "\n",
    "def TI(x):\n",
    "    du=np.zeros(x.size)\n",
    "    du = u1(x)-u0(x)\n",
    "    S = np.mean(du)\n",
    "    varS = np.var(du)/x.size\n",
    "    return S, varS"
   ]
  },
  {
   "cell_type": "code",
   "execution_count": null,
   "metadata": {},
   "outputs": [],
   "source": [
    "dx = 0.01\n",
    "N = 11000\n",
    "dN = 1600\n",
    "dlambda = 0.1\n",
    "lambs = np.arange(0.0,1.,dlambda)\n",
    "lambs = np.append(lambs,[1.0])\n",
    "Ns = N//len(lambs)\n",
    "dAdl = np.zeros(len(lambs))\n",
    "vardAdl = np.zeros(len(lambs))\n",
    "i = 0\n",
    "for i in range(len(lambs)):\n",
    "    x0 = -1.5 + 3.0*i*dlambda\n",
    "    x = np.empty(Ns)\n",
    "    x, count = MCpropagator2(x0,dx,Ns,dN,ulmbd,lambs[i])\n",
    "#    print('Number of samples generated:%8d for lambda= %5.2f' %(count,lambs[i]))\n",
    "    prob, bins, patches = plt.hist(x, bins=50, density=True)\n",
    "    mean = np.mean(x)\n",
    "    variance = np.var(x)\n",
    "    npdf = scipy.stats.norm.pdf(bins,mean,variance)\n",
    "    plt.plot(bins, npdf, '--')\n",
    "    dAdl[i], vardAdl[i] = TI(x)\n",
    "\n",
    "dA=0.0\n",
    "for i in range(len(lambs)-1):\n",
    "    print('The free energy difference from lambda %d to lambda %d is %8.2f +- %5.2f' % (i,i+1,0.5*dlambda*(dAdl[i]+dAdl[i+1]), 0.5*dlambda*np.sqrt(vardAdl[i]+vardAdl[i+1])))\n",
    "    dA += 0.5*dlambda*(dAdl[i]+dAdl[i+1])\n",
    "\n",
    "vardA=(0.5*dlambda)**2*(vardAdl[0]+vardAdl[-1])\n",
    "for i in range(1,len(lambs)-1):\n",
    "    vardA += dlambda**2*vardAdl[i]\n",
    "print('')\n",
    "print('The total free energy difference is %8.2f +- %5.2f' %(dA,np.sqrt(vardA)))\n",
    "plt.show()"
   ]
  }
 ],
 "metadata": {
  "kernelspec": {
   "display_name": "Python 3",
   "language": "python",
   "name": "python3"
  },
  "language_info": {
   "codemirror_mode": {
    "name": "ipython",
    "version": 3
   },
   "file_extension": ".py",
   "mimetype": "text/x-python",
   "name": "python",
   "nbconvert_exporter": "python",
   "pygments_lexer": "ipython3",
   "version": "3.6.4"
  },
  "latex_envs": {
   "LaTeX_envs_menu_present": true,
   "autocomplete": true,
   "bibliofile": "biblio.bib",
   "cite_by": "apalike",
   "current_citInitial": 1,
   "eqLabelWithNumbers": true,
   "eqNumInitial": 1,
   "hotkeys": {
    "equation": "Ctrl-E",
    "itemize": "Ctrl-I"
   },
   "labels_anchors": false,
   "latex_user_defs": false,
   "report_style_numbering": false,
   "user_envs_cfg": false
  }
 },
 "nbformat": 4,
 "nbformat_minor": 2
}
