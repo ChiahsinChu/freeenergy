{
 "cells": [
  {
   "cell_type": "markdown",
   "metadata": {
    "slideshow": {
     "slide_type": "slide"
    }
   },
   "source": [
    "In the calculations of thermodynamic properties, only only the accuracy but also the precision is our concern. Bennett Acceptance Ration (BAR), which was proposed by Bennett in 1976, is a method that yield the free energy difference between two states with minimal variance. Not like in thermodynamic perturbation, BAR requires simulations for both states. Starting from the definition of free energy difference\n",
    "\\begin{align}\n",
    "\\Delta A&=\\ln{\\frac{Q_0}{Q_1}}\\notag\\\\\n",
    "      &=\\ln{\\frac{Q_0}{Q_1}\\frac{\\int W\\exp{(-U_0-U_1)}d\\mathbf{q}}{\\int W\\exp{(-U_0-U_1)}d\\mathbf{q}}}\\notag\\\\\n",
    "      &=\\ln{\\left\\{\\frac{\\int W\\exp{(-U_0)}\\exp{(-U_1)}d\\mathbf{q}}{Q_1}\\cdot\\frac{Q_0}{\\int W\\exp{(-U_1)}\\exp{(-U_0)}d\\mathbf{q}}\\right\\}}\\notag\\\\\n",
    "      &=\\ln{\\frac{\\left<W\\exp{(-U_0)}\\right>_1}{\\left<W\\exp{(-U_1)}\\right>_0}},\n",
    "\\end{align}\n",
    "where $W$ is an arbitrary normal weighting function. Optimization of the free energy estimate is most easily carried out in the limit of large sample sizes. Let the available data consist of $n_0$ statistically independent configurations from the $U_0$ ensemble and $n_1$ from the $U_1$ ensemble. Let the data be used in the above equation to obtain a finite-sample estimate of the reduced free energy difference $\\Delta A$. Using the error propagation equation\n",
    "$$\n",
    "Var[y(x_1,x_2)]=\\left(\\frac{\\partial y}{\\partial x_1}\\right)^2 Var(x_1) + \\left(\\frac{\\partial y}{\\partial x_2}\\right)^2 Var(x_2),\n",
    "$$\n",
    "by assuming that $x_1$ and $x_2$ are independent, we have the variance of $\\Delta A$\n",
    "\\begin{align*}\n",
    "Var(\\Delta A)&=\\left(\\frac{\\partial \\Delta A}{\\partial Q_0}\\right)^2 Var(Q_0)+\\left(\\frac{\\partial \\Delta A}{\\partial Q_1}\\right)^2 Var(Q_1)\\\\\n",
    "         &=\\left(\\frac{1}{Q_0}\\right)^2 Var(Q_0)+\\left(-\\frac{1}{Q_1}\\right)^2 Var(Q_1)\\\\\n",
    "         &=\\left(\\frac{1}{Q_0}\\right)^2 Var(Q_0)+\\left(\\frac{1}{Q_1}\\right)^2 Var(Q_1).\n",
    "\\end{align*}\n",
    "With the definition of variance $Var(X)=\\left<X^2\\right>-\\left<X\\right>^2$, we have\n",
    "\\begin{align*}\n",
    "Var(Q_0)&=Var\\left(\\left<W\\exp{(-U_0)}\\right>_1\\right)\\\\\n",
    "     &=Var\\left(\\frac{1}{n_1}\\sum_{i=1}^{n_1}W_i\\exp{(-U_0(i))}\\right)\\\\\n",
    "     &=\\sum_{i=1}^{n_1}\\left(\\frac{1}{n_1}\\right)^2Var\\left\\{W_i\\exp{\\left[-U_0(i)\\right]}\\right\\}\\\\\n",
    "     &=\\frac{1}{n_1}Var\\left\\{W_i\\exp{\\left[-U_0(i)\\right]}\\right\\}\\\\\n",
    "     &=\\frac{1}{n_1}\\left\\{\\left<\\left(W\\exp{(-U_0)}\\right)^2\\right>_1-\\left[\\left<W\\exp{(-U_0)}\\right>_1\\right]^2\\right\\}\\\\\n",
    "     &=\\frac{1}{n_1}\\left\\{\\left<W^2\\exp{(-2U_0)}\\right>_1-\\left[\\left<W\\exp{(-U_0)}\\right>_1\\right]^2\\right\\}\n",
    "\\end{align*}\n",
    "With sufficiently large sample sizes, the error of this estimate will be nearly Gaussian, and its expected square is exactly the variance of $\\Delta A$\n",
    "\\begin{align*}\n",
    "Var\\left(\\Delta A_{est}-\\Delta A\\right)&\\approx\\frac{\\left<W^2\\exp{(-2U_1)}\\right>_0}{n_0\\left[\\left<W\\exp{\\left(-U_1\\right)}\\right>_0\\right]^2}+\\frac{\\left<W^2\\exp{(-2U_0)}\\right>_1}{n_1\\left[\\left<W\\exp{\\left(-U_0\\right)}\\right>_1\\right]^2}-\\frac{1}{n_0}-\\frac{1}{n_1}\\\\\n",
    "&=\\frac{\\int \\left[(Q_0/n_0)\\exp{(-U_1)+(Q_1/n_1)\\exp{(-U_0)}}\\right]W^2\\exp{(-U_0-U_1)} d\\mathbf{q}}{\\left[\\int W\\exp{(-U_0-U_1)}d\\mathbf{q}\\right]^2}-\\frac{1}{n_0}-\\frac{1}{n_1}.\n",
    "\\end{align*}\n",
    "To minimize it with respect to $W$, we find\n",
    "$$\n",
    "W=\\mathit{const}\\times\\left(\\frac{Q_0}{n_0}\\exp{(-U_1)}+\\frac{Q_1}{n_1}\\exp{(-U_0)}\\right)^{-1}.\n",
    "$$\n",
    "\n",
    "Substituting this into the definition of $\\Delta A$ (please let me when equation numbering and references in Jupyter is available) yields\n",
    "$$\n",
    "\\Delta A=\\ln{\\frac{Q_0}{Q_1}}=\\ln{\\frac{\\left<f(U_0-U_1+C)\\right>_1}{\\left<f(U_1-U_0-C)\\right>_0}}+C\n",
    "$$\n",
    "where\n",
    "$$\n",
    "C=\\Delta A+\\ln{\\frac{n_1}{n_0}},\n",
    "$$\n",
    "and $f$ denotes the Fermi function\n",
    "$$\n",
    "f(x)=\\frac{1}{1+\\exp{(x)}}.\n",
    "$$\n",
    "Because $C$ and $\\Delta A$ depend on each other, they must be solved iteratively.\n",
    "\n",
    "In this script, we are going to calculate the free energy difference between two states.\n",
    "State 0 has a Hamiltonian $H_0=(x+2.0)^2$ in one-dimensional space, and state 1 has a Hamiltonian $H_1=0.25*(x-2.0)^2$. The free energy difference between these two states is\n",
    "\\begin{align*}\n",
    "\\Delta A&=\\ln{\\frac{\\int \\exp{(-H_0(\\mathbf{x}))}d\\mathbf{x}}{\\int \\exp{(-H_1(\\mathbf{x}))}d\\mathbf{x}}}\\\\\n",
    "     &=\\ln{\\frac{\\int \\exp{(-(x+2.0)^2)}d\\mathbf{x}}{\\int \\exp{(-0.25*(x-2.0)^2)}d\\mathbf{x}}}\\\\\n",
    "     &=\\ln{\\frac{\\sqrt{2\\pi*0.5}}{\\sqrt{2\\pi*2}}}\\\\\n",
    "     &=-0.69\n",
    "\\end{align*}"
   ]
  },
  {
   "cell_type": "code",
   "execution_count": null,
   "metadata": {
    "scrolled": true,
    "slideshow": {
     "slide_type": "slide"
    }
   },
   "outputs": [],
   "source": [
    "%matplotlib inline\n",
    "from math import *\n",
    "import numpy as np\n",
    "import random\n",
    "import scipy.stats\n",
    "import matplotlib.pyplot as plt\n",
    "import matplotlib.mlab as mlab\n",
    "np.set_printoptions(precision=3)\n",
    "def u0(x):\n",
    "    return (x+2.0)**2\n",
    "def u1(x):\n",
    "    return 0.25*(x-2.0)**2\n",
    "x=np.linspace(-5,6,100)\n",
    "y0=u0(x)\n",
    "y1=u1(x)\n",
    "plt.ylim(-.5, 3)\n",
    "plt.plot(x,y0,'r',x,y1,'b')\n",
    "plt.show()"
   ]
  },
  {
   "cell_type": "markdown",
   "metadata": {},
   "source": [
    "Because the barrier is much larger than 1 in a unit of kT, it is difficult for TP to find the converged correct answer. Next we will use BAR to get the free energy difference."
   ]
  },
  {
   "cell_type": "markdown",
   "metadata": {
    "slideshow": {
     "slide_type": "slide"
    }
   },
   "source": [
    "Now we define a Monte Carlo (MC) propagator for this simulation. \n",
    "In the MC simulation, the transition between states must satisfy the detailed balance, i.e.\n",
    "$$\\rho(x_i)P(x_i,x_j)=\\rho(x_j)P(x_j,x_i),$$\n",
    "where $\\rho(x_i)$ and $P(x_i,x_j)$ are the probability of the microstate $x_i$ and the transition probability from $x_i$ to $x_j$, \n",
    "respectively.\n",
    "Suppose at $t_0$ the system is located at microstate $x_0$ with energy u(x_0). We make a random trial move to $x_1^t$ with energy \n",
    "$u(x_1^t)$.\n",
    "\n",
    "if $u(x_1^t)<u(x_1^t)$\n",
    "\n",
    "  {\n",
    "  $x_1=x_1^t$\n",
    "  }\n",
    "  \n",
    "else\n",
    "\n",
    "  {\n",
    "   generate a random number s evenly distributed in [0,1]\n",
    "  \n",
    "   if $s<e^{-[u(x_1^t)-u(x_1^t)]}$\n",
    "  \n",
    "   {\n",
    "    $x_1=x_1^t$\n",
    "    }\n",
    "    \n",
    "   else\n",
    "  \n",
    "   {\n",
    "    $x_1=x_0$\n",
    "   }\n",
    "  }"
   ]
  },
  {
   "cell_type": "code",
   "execution_count": null,
   "metadata": {
    "scrolled": true,
    "slideshow": {
     "slide_type": "slide"
    }
   },
   "outputs": [],
   "source": [
    "def MCpropagator(x0,dx,N,dN,u):\n",
    "    count = 0\n",
    "    x = np.empty(N)\n",
    "    xcurrent = x0\n",
    "    while count <N:\n",
    "        innercount = 0\n",
    "        while innercount < dN:\n",
    "            rnd = np.random.uniform(0.0,1.0)\n",
    "            if rnd < 0.5:\n",
    "                xtrial = xcurrent - dx\n",
    "            else:\n",
    "                xtrial = xcurrent + dx\n",
    "\n",
    "            deltau = u(xtrial) - u(xcurrent)\n",
    "            if deltau < 0.0:\n",
    "                xcurrent = xtrial\n",
    "            else:\n",
    "                acceptanceratio = np.exp(-deltau)\n",
    "                if acceptanceratio > np.random.uniform(0.0,1.0):\n",
    "                    xcurrent = xtrial\n",
    "                else:\n",
    "                    xcurrent = xcurrent\n",
    "            innercount = innercount + 1\n",
    "        x[count]=xcurrent\n",
    "        count = count + 1\n",
    "    return x, count"
   ]
  },
  {
   "cell_type": "code",
   "execution_count": null,
   "metadata": {
    "scrolled": true,
    "slideshow": {
     "slide_type": "slide"
    }
   },
   "outputs": [],
   "source": [
    "dx = 0.01\n",
    "dN = 1600\n",
    "N0 = 5000\n",
    "x_init0 = -2.0\n",
    "x0 = np.empty(N0)\n",
    "x0, count0 = MCpropagator(x_init0,dx,N0,dN,u0)\n",
    "print('Number of samples generated for H0:%8d' %count0)\n",
    "prob0, bins0, patches0 = plt.hist(x0, bins=50, density=True)\n",
    "mean0 = np.mean(x0)\n",
    "variance0 = np.var(x0)\n",
    "npdf0 = scipy.stats.norm.pdf(bins0,mean0,variance0)\n",
    "plt.plot(bins0, npdf0, '--')\n",
    "\n",
    "N1 = 10000\n",
    "x_init1 = 2.0\n",
    "x1 = np.empty(N0)\n",
    "x1, count1 = MCpropagator(x_init1,dx,N1,dN,u1)\n",
    "print('Number of samples generated for H1:%8d' %count1)\n",
    "\n",
    "prob1, bins1, patches1 = plt.hist(x1, bins=50, density=True)\n",
    "mean1 = np.mean(x1)\n",
    "variance1 = np.var(x1)\n",
    "npdf1 = scipy.stats.norm.pdf(bins1,mean1,variance1)\n",
    "plt.plot(bins1, npdf1, '--')\n",
    "\n",
    "print('The distribution of the samples looks like:')\n",
    "plt.xlim(-5,6)\n",
    "plt.show()"
   ]
  },
  {
   "cell_type": "markdown",
   "metadata": {
    "slideshow": {
     "slide_type": "slide"
    }
   },
   "source": [
    "With these microstates sampled under $H_0$ and $H_1$, we calculate the free energy difference."
   ]
  },
  {
   "cell_type": "code",
   "execution_count": null,
   "metadata": {
    "scrolled": true,
    "slideshow": {
     "slide_type": "slide"
    }
   },
   "outputs": [],
   "source": [
    "def fermi(x):\n",
    "    return 1.0/(1+np.exp(x))"
   ]
  },
  {
   "cell_type": "code",
   "execution_count": null,
   "metadata": {},
   "outputs": [],
   "source": [
    "def BAR(u00,u11,u01,u10,count0,count1,deltaA=0.0,maxcycle=100):\n",
    "    icycle = 1\n",
    "    while icycle <maxcycle:\n",
    "        deltaA0=deltaA\n",
    "        c=deltaA+log(float(count1)/count0)\n",
    "        f0=fermi(u01-u00-c)\n",
    "        f1=fermi(u10-u11+c)\n",
    "        f0mean = np.mean(f0)\n",
    "        f1mean = np.mean(f1)\n",
    "        deltaA=log(f1mean/f0mean)+c\n",
    "        print('Cycle %d: Delta A=%5.2f' %(icycle, deltaA))\n",
    "        if np.abs(deltaA0-deltaA)<1.E-4:\n",
    "            print(\"Convergence has reached\")\n",
    "            return deltaA\n",
    "        icycle += 1\n",
    "    print(\"max cyclc reached. Return with nonconverged result\")\n",
    "    return deltaA"
   ]
  },
  {
   "cell_type": "code",
   "execution_count": null,
   "metadata": {},
   "outputs": [],
   "source": [
    "u00=u0(x0)\n",
    "u11=u1(x1)\n",
    "u01=u1(x0)\n",
    "u10=u0(x1)\n",
    "deltaA=0.0\n",
    "deltaA=BAR(u00,u11,u01,u10,count0,count1,0.0,100)\n",
    "print('The free energy difference from a BAR calculation is %8.2f' % (deltaA))\n",
    "print('The free energy difference from a forward TP calculation is %8.2f' % (-np.log(np.mean(np.exp(u00-u01)))))\n",
    "print('The free energy difference from a backward TP calculation is %8.2f' % (np.log(np.mean(np.exp(u11-u10)))))"
   ]
  },
  {
   "cell_type": "markdown",
   "metadata": {
    "collapsed": true,
    "slideshow": {
     "slide_type": "slide"
    }
   },
   "source": [
    "In the following, we will use another sampling method termed stratified sampling. In this method, we first introduce a series of intermediate states with a Hamiltonian $H_\\lambda=\\lambda H_1+(1-\\lambda)H_0,\\, \\lambda \\in (0,1)$. When $\\lambda=0,\\, H_\\lambda=H_0$. And $H_\\lambda=H_1$, when $\\lambda=1$. The function for $H_\\lambda$ is:"
   ]
  },
  {
   "cell_type": "code",
   "execution_count": null,
   "metadata": {
    "scrolled": true,
    "slideshow": {
     "slide_type": "slide"
    }
   },
   "outputs": [],
   "source": [
    "def ulmbd(lamb,x):\n",
    "    return (1-lamb)*u0(x)+lamb*u1(x)"
   ]
  },
  {
   "cell_type": "markdown",
   "metadata": {
    "slideshow": {
     "slide_type": "slide"
    }
   },
   "source": [
    "We can plot the potential energy surfaces\n"
   ]
  },
  {
   "cell_type": "code",
   "execution_count": null,
   "metadata": {
    "scrolled": true,
    "slideshow": {
     "slide_type": "slide"
    }
   },
   "outputs": [],
   "source": [
    "x=np.linspace(-5,6,100)\n",
    "y0=ulmbd(0.0,x)\n",
    "y1=ulmbd(0.1,x)\n",
    "y2=ulmbd(0.2,x)\n",
    "y5=ulmbd(0.5,x)\n",
    "y8=ulmbd(0.8,x)\n",
    "y9=ulmbd(0.9,x)\n",
    "yN=ulmbd(1.0,x)\n",
    "plt.ylim(-.5, 3)\n",
    "plt.plot(x,y0,'r')\n",
    "plt.plot(x,yN,'b')\n",
    "plt.plot(x,y1)\n",
    "plt.plot(x,y2)\n",
    "plt.plot(x,y5)\n",
    "plt.plot(x,y8)\n",
    "plt.plot(x,y9)\n",
    "plt.show()"
   ]
  },
  {
   "cell_type": "markdown",
   "metadata": {
    "slideshow": {
     "slide_type": "slide"
    }
   },
   "source": [
    "The free energy difference between $H_0$ and $H_1$ can be written as the sum of the free energy difference between each pair of neighboring states, i.e.\n",
    "$$\\Delta A_{0\\rightarrow 1}=\\sum\\limits_{i=0}^{N-1}\\Delta A_{\\lambda_i\\rightarrow \\lambda_{i+1}}$$\n",
    "We keep the total number of samples fixed and evenly distribute the samples to each simulation under $H_\\lambda$."
   ]
  },
  {
   "cell_type": "code",
   "execution_count": null,
   "metadata": {
    "scrolled": true,
    "slideshow": {
     "slide_type": "slide"
    }
   },
   "outputs": [],
   "source": [
    "def MCpropagator2(x0,dx,N,dN,ulmbd,lamb):\n",
    "    count = 0\n",
    "    x = np.empty(N)\n",
    "    xcurrent = x0\n",
    "    while count < N:\n",
    "        innercount = 0\n",
    "        while innercount < dN:\n",
    "            rnd = np.random.uniform(0.,1.)\n",
    "            if rnd<0.5:\n",
    "                xtrial = xcurrent - dx\n",
    "            else:\n",
    "                xtrial = xcurrent + dx\n",
    "\n",
    "            deltau = ulmbd(lamb,xtrial) - ulmbd(lamb,xcurrent)\n",
    "            if deltau < 0:\n",
    "                xcurrent = xtrial\n",
    "            else:\n",
    "                acceptanceratio = np.exp(-deltau)\n",
    "                if acceptanceratio > np.random.uniform(0.0,1.0):\n",
    "                    xcurrent = xtrial\n",
    "                else:\n",
    "                    xcurrent = xcurrent\n",
    "            innercount = innercount + 1\n",
    "        x[count] = xcurrent\n",
    "        count = count + 1\n",
    "    return x, count\n",
    "\n",
    "def TP2(x,ulmbd,lmbd1,lmbd2):\n",
    "    edu=np.zeros(x.size)\n",
    "    edu = np.exp(-(ulmbd(lmbd2,x)-ulmbd(lmbd1,x)))\n",
    "    S = np.mean(edu)\n",
    "    varS = np.var(edu)/x.size\n",
    "    deltaA = -np.log(S)\n",
    "    varA = varS/S**2\n",
    "    return deltaA, varA"
   ]
  },
  {
   "cell_type": "code",
   "execution_count": null,
   "metadata": {
    "scrolled": true,
    "slideshow": {
     "slide_type": "slide"
    }
   },
   "outputs": [],
   "source": [
    "dx = 0.01\n",
    "N=10000\n",
    "dlambda = 0.1\n",
    "lambs = np.arange(0.0,1.,dlambda)\n",
    "lambs = np.append(lambs,[1.0])\n",
    "Ns = N//(len(lambs)-1)\n",
    "deltaA = np.zeros(len(lambs)-1)\n",
    "varA = np.zeros(len(lambs)-1)\n",
    "i = 0\n",
    "for i in range(len(lambs)-1):\n",
    "    x0 = -1.5 + 3.0*i*dlambda\n",
    "    x = np.empty(Ns)\n",
    "    x, count = MCpropagator2(x0,dx,Ns,dN,ulmbd,lambs[i])\n",
    "#    print('Number of samples generated:%8d for lambda= %5.2f' %(count,lambs[i]))\n",
    "    prob, bins, patches = plt.hist(x, bins=50, density=True)\n",
    "    mean = np.mean(x)\n",
    "    variance = np.var(x)\n",
    "    npdf = scipy.stats.norm.pdf(bins,mean,variance)\n",
    "    plt.plot(bins, npdf, '--')\n",
    "    deltaA[i], varA[i] = TP2(x,ulmbd,lambs[i],lambs[i+1])\n",
    "    print('The free energy difference from lambda %d to lambda %d is %8.2f +- %5.2f' % (i,i+1,deltaA[i], np.sqrt(varA[i])))\n",
    "\n",
    "print('')\n",
    "print('The total free energy difference is %8.2f +- %5.2f' %(np.sum(deltaA),np.sqrt(np.sum(varA))))\n",
    "plt.show()"
   ]
  }
 ],
 "metadata": {
  "kernelspec": {
   "display_name": "Python 3",
   "language": "python",
   "name": "python3"
  },
  "language_info": {
   "codemirror_mode": {
    "name": "ipython",
    "version": 3
   },
   "file_extension": ".py",
   "mimetype": "text/x-python",
   "name": "python",
   "nbconvert_exporter": "python",
   "pygments_lexer": "ipython3",
   "version": "3.6.4"
  },
  "latex_envs": {
   "LaTeX_envs_menu_present": true,
   "autocomplete": true,
   "bibliofile": "biblio.bib",
   "cite_by": "apalike",
   "current_citInitial": 1,
   "eqLabelWithNumbers": true,
   "eqNumInitial": 1,
   "hotkeys": {
    "equation": "Ctrl-E",
    "itemize": "Ctrl-I"
   },
   "labels_anchors": false,
   "latex_user_defs": false,
   "report_style_numbering": false,
   "user_envs_cfg": false
  }
 },
 "nbformat": 4,
 "nbformat_minor": 2
}
